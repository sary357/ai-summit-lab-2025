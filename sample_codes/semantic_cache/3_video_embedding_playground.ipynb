{
 "cells": [
  {
   "cell_type": "code",
   "execution_count": 1,
   "id": "3c7ad59c-a03a-4fce-ae90-4320bdf21a2f",
   "metadata": {},
   "outputs": [
    {
     "name": "stdout",
     "output_type": "stream",
     "text": [
      "http://127.0.0.1:19530\n"
     ]
    }
   ],
   "source": [
    "import os\n",
    "import random\n",
    "import traceback\n",
    "from dotenv import load_dotenv\n",
    "from pymilvus import connections, utility, Collection, FieldSchema, DataType, CollectionSchema, db\n",
    "from sentence_transformers import SentenceTransformer\n",
    "from pymilvus import MilvusClient\n",
    "from openai import OpenAI\n",
    "\n",
    "load_dotenv()\n",
    "\n",
    "MILVUS_HOST = os.getenv(\"MILVUS_HOST\")\n",
    "MILVUS_PORT = os.getenv(\"MILVUS_PORT\")\n",
    "\n",
    "DB_NAME = os.getenv(\"VIDEO_DATABASE\")\n",
    "COLLECTION_NAME = os.getenv(\"VIDEO_COLLECTION\")\n",
    "\n",
    "TWELVE_LABS_API_KEY=os.getenv(\"TWELVE_LABS_API_KEY\")\n",
    "\n",
    "print(f\"http://{MILVUS_HOST}:{MILVUS_PORT}\")"
   ]
  },
  {
   "cell_type": "code",
   "execution_count": 2,
   "id": "672d0d13-3ade-407c-9fa3-d9f00b59065d",
   "metadata": {},
   "outputs": [],
   "source": [
    "client = MilvusClient(\n",
    "            uri=f\"http://{MILVUS_HOST}:{MILVUS_PORT}\",\n",
    "            db_name=DB_NAME\n",
    "        )"
   ]
  },
  {
   "cell_type": "code",
   "execution_count": 3,
   "id": "9a05aac9-5ce9-41c5-b0b9-570db35edcdf",
   "metadata": {},
   "outputs": [],
   "source": [
    "def create_database(database_name):\n",
    "    conn = connections.connect(host=MILVUS_HOST, port=MILVUS_PORT)\n",
    "    if database_name in db.list_database():\n",
    "        return\n",
    "    database = db.create_database(database_name)\n",
    "create_database(DB_NAME)\n",
    "\n",
    "\n",
    "\n"
   ]
  },
  {
   "cell_type": "code",
   "execution_count": 4,
   "id": "63baf397-bb25-4ba1-9df0-e15f1bedd862",
   "metadata": {},
   "outputs": [],
   "source": [
    "\n",
    "# Check if the collection already exists and drop it if it does\n",
    "if client.has_collection(collection_name=COLLECTION_NAME):\n",
    "    client.drop_collection(collection_name=COLLECTION_NAME)\n"
   ]
  },
  {
   "cell_type": "code",
   "execution_count": 5,
   "id": "678c1003-0660-4880-8aea-f1f22715236a",
   "metadata": {},
   "outputs": [
    {
     "name": "stdout",
     "output_type": "stream",
     "text": [
      "Collection 'video_embeddings' created successfully\n"
     ]
    }
   ],
   "source": [
    "\n",
    "# Create the collection\n",
    "client.create_collection(\n",
    "    collection_name=COLLECTION_NAME,\n",
    "    dimension=1024  # The dimension of the Twelve Labs embeddings\n",
    ")\n",
    "\n",
    "print(f\"Collection '{COLLECTION_NAME}' created successfully\")"
   ]
  },
  {
   "cell_type": "code",
   "execution_count": 6,
   "id": "f56b1b92-1114-455d-94a6-801ceacbbae3",
   "metadata": {},
   "outputs": [],
   "source": [
    "from twelvelabs import TwelveLabs\n",
    "from twelvelabs.models.embed import EmbeddingsTask\n",
    "twelvelabs_client = TwelveLabs(api_key=TWELVE_LABS_API_KEY)\n"
   ]
  },
  {
   "cell_type": "code",
   "execution_count": 7,
   "id": "ee167c31-7031-4151-a61a-d6ab295ef37e",
   "metadata": {},
   "outputs": [],
   "source": [
    "def generate_embedding(path):\n",
    "    \"\"\"\n",
    "    Generate embeddings for a given video URL using the Twelve Labs API.\n",
    "\n",
    "    This function creates an embedding task for the specified video URL using\n",
    "    the Marengo-retrieval-2.6 engine. It monitors the task progress and waits\n",
    "    for completion. Once done, it retrieves the task result and extracts the\n",
    "    embeddings along with their associated metadata.\n",
    "\n",
    "    Args:\n",
    "        path (str): The path of the video to generate embeddings for.\n",
    "\n",
    "    Returns:\n",
    "        raw_data\n",
    "\n",
    "    Raises:\n",
    "        Any exceptions raised by the Twelve Labs API during task creation,\n",
    "        execution, or retrieval.\n",
    "    \"\"\"\n",
    "\n",
    "    # Create an embedding task\n",
    "    task = twelvelabs_client.embed.task.create(\n",
    "        model_name=\"Marengo-retrieval-2.7\",\n",
    "        video_file=video_file # video_url=video_url\n",
    "    )\n",
    "    print(f\"Created task: id={task.id} model_name={task.model_name} status={task.status}\")\n",
    "\n",
    "    # Define a callback function to monitor task progress\n",
    "    def on_task_update(task: EmbeddingsTask):\n",
    "        print(f\"  Status={task.status}\")\n",
    "\n",
    "    # Wait for the task to complete\n",
    "    status = task.wait_for_done(\n",
    "        sleep_interval=2,\n",
    "        callback=on_task_update\n",
    "    )\n",
    "    print(f\"Embedding done: {status}\")\n",
    "\n",
    "    # Retrieve the task result\n",
    "    task_result = twelvelabs_client.embed.task.retrieve(task.id)\n",
    "    \n",
    "    return task_result"
   ]
  },
  {
   "cell_type": "code",
   "execution_count": 8,
   "id": "eac49af1-4027-4a88-be35-64e53698c5fc",
   "metadata": {},
   "outputs": [
    {
     "name": "stdout",
     "output_type": "stream",
     "text": [
      "Created task: id=67b7c9a49461ba0f74686e47 model_name=Marengo-retrieval-2.7 status=processing\n",
      "  Status=processing\n",
      "  Status=processing\n",
      "  Status=processing\n",
      "  Status=processing\n",
      "  Status=processing\n",
      "  Status=processing\n",
      "  Status=processing\n",
      "  Status=processing\n",
      "  Status=processing\n",
      "  Status=processing\n",
      "  Status=processing\n",
      "  Status=processing\n",
      "  Status=processing\n",
      "  Status=processing\n",
      "  Status=processing\n",
      "  Status=processing\n",
      "  Status=processing\n",
      "  Status=processing\n",
      "  Status=processing\n",
      "  Status=processing\n",
      "  Status=processing\n",
      "  Status=processing\n",
      "  Status=processing\n",
      "  Status=processing\n",
      "  Status=processing\n",
      "  Status=processing\n",
      "  Status=processing\n",
      "  Status=processing\n",
      "  Status=processing\n",
      "  Status=processing\n",
      "  Status=processing\n",
      "  Status=processing\n",
      "  Status=processing\n",
      "  Status=processing\n",
      "  Status=processing\n",
      "  Status=processing\n",
      "  Status=processing\n",
      "  Status=processing\n",
      "  Status=processing\n",
      "  Status=processing\n",
      "  Status=processing\n",
      "  Status=processing\n",
      "  Status=processing\n",
      "  Status=processing\n",
      "  Status=processing\n",
      "  Status=processing\n",
      "  Status=processing\n",
      "  Status=processing\n",
      "  Status=processing\n",
      "  Status=processing\n",
      "  Status=processing\n",
      "  Status=processing\n",
      "  Status=processing\n",
      "  Status=processing\n",
      "  Status=processing\n",
      "  Status=processing\n",
      "  Status=processing\n",
      "  Status=processing\n",
      "  Status=processing\n",
      "  Status=processing\n",
      "  Status=processing\n",
      "  Status=processing\n",
      "  Status=processing\n",
      "  Status=processing\n",
      "  Status=processing\n",
      "  Status=processing\n",
      "  Status=processing\n",
      "  Status=processing\n",
      "  Status=processing\n",
      "  Status=processing\n",
      "  Status=processing\n",
      "  Status=processing\n",
      "  Status=processing\n",
      "  Status=processing\n",
      "  Status=ready\n",
      "Embedding done: ready\n"
     ]
    }
   ],
   "source": [
    "video_file=\"/home/ec2-user/ai-summit-lab-2025/sample_codes/videos/big_buck_bunny_480p_1mb.mp4\" # from https://sample-videos.com/\n",
    "task_result = generate_embedding(video_file)\n"
   ]
  },
  {
   "cell_type": "code",
   "execution_count": 9,
   "id": "e5e141b9-995a-4a15-a6fe-d40f88659b08",
   "metadata": {},
   "outputs": [],
   "source": [
    "from typing import List\n",
    "from twelvelabs.models.embed import SegmentEmbedding\n"
   ]
  },
  {
   "cell_type": "code",
   "execution_count": 10,
   "id": "ed1bdb9e-3b3d-4429-acc7-ee8716e6b88b",
   "metadata": {},
   "outputs": [
    {
     "name": "stdout",
     "output_type": "stream",
     "text": [
      "[{'id': 1, 'vector': [0.011293273, 0.011134445, 0.018624293, -0.024905238, -0.030021077, -0.032317936, -0.019025005, -0.00030190055, -0.016772691, -0.05898016, 0.009755327, -0.054828964, -0.045286957, 0.022679515, -0.0127837695, -0.0076851672, -0.068526424, -0.08044255, -0.015463732, -0.016182408, 0.018166859, -0.0031694872, 0.04374777, 0.052766092, 0.0016972977, 0.004626846, 0.011100962, 0.054884955, -0.021003945, 0.032034136, -0.00080434815, -0.049462974, -0.0013499564, 0.050285224, -0.022039011, 0.011312073, -0.008946639, 0.0061128805, -0.0017873591, -0.037824295, -0.013623947, -0.00805492, -0.029822953, -0.02412476, 0.032041248, 0.014222868, -0.016141023, -0.013313575, -0.039279792, 0.039204363, -0.0102516925, 0.015833903, 0.015445854, 0.025808094, 0.010192145, -0.051433302, -0.0013952032, -0.0075264703, 0.007911947, 0.038381714, -0.017480174, 0.030641701, -0.022933312, 0.006986844, 0.021974033, 0.046490073, -0.00957011, 0.024434194, -0.0114549445, -0.0057887062, 0.075518504, 0.013152343, 0.005860613, 0.011508257, 0.0017580858, 0.002719314, 0.01709205, 0.03573709, 0.017004754, 0.022096785, -0.000886331, -0.026948081, -0.03953543, 0.0014074983, -0.007790253, 0.014329088, -0.03387055, -0.004552299, 0.026473552, -0.041647833, -0.030682141, 0.018067721, 0.007918148, -0.014137035, 0.010788329, -0.051932476, -0.006918816, 0.026821142, 0.0007278695, 0.022096667, -0.00094390986, -0.015799575, -0.0006063884, 0.013398584, 0.013900338, -0.0011987817, -0.010270207, -0.022254907, -0.033345155, 0.0075792205, -0.03406021, 0.00947053, -0.032623548, -0.027819708, 0.011353058, -0.0076637543, -0.006656356, -0.030572064, 0.040435098, -0.025319548, 0.031185472, 0.09976943, -0.0134997135, -0.0021398694, -0.008268083, -0.0017123047, 0.04123122, 0.025543885, -0.01657991, 0.00058282894, 0.003954317, 0.007697589, 0.02789176, -0.025294593, 0.07299543, -0.016466405, -0.060280133, 0.017765881, 0.04213, -0.031180529, 0.00355154, -0.0234241, 0.006201327, 0.03419071, 0.008471746, -0.024862373, -0.00011737808, 0.009712107, 0.002276583, -0.02673476, -0.016125308, 0.019788833, -0.04874567, 0.05343284, -0.021172678, 0.015898632, -0.0023147813, 0.006872693, -0.020950697, 0.01745945, -0.013004895, 0.03817688, -0.041178636, 0.0007109053, 0.02528075, 0.016642576, 0.047016576, -0.11650851, 0.0029251215, -0.01683972, 0.06504347, 0.0008185128, -0.0024984032, 0.022477718, -6.857895e-05, -0.0076464885, -0.022762775, -0.025059758, 0.024473254, -0.038941603, -0.0037784362, 0.018460697, 0.022207167, -0.0012772317, -0.048494566, -0.00092509465, 0.0021996452, 0.00055039575, 0.017821085, -0.007520266, -0.0052610114, 0.04615434, -0.09218156, 0.005826099, -0.04771211, 0.054429837, 0.018233469, 0.00074637186, 0.009757509, -0.04894993, 0.018152704, -0.00082192646, -0.046394125, 0.02634153, -0.017291851, -0.03361817, 0.01350267, -0.023788532, -0.024169695, -0.051433917, -0.009260058, -0.0066954163, -0.0049148067, -0.013494842, 0.030230196, -0.032355964, 0.026109228, 0.035447504, 0.03127848, 0.023843842, -0.006211815, 0.047183357, 0.016050715, 0.03808029, 0.003878513, -0.033799354, -0.024523834, -0.0037227764, 0.06015268, -0.005637073, -0.03090379, 0.007756628, 0.053335503, -0.02202904, -0.021761911, -0.03096363, 0.030191211, 0.021384891, 0.021127554, 0.010464377, -0.039983444, 0.031447377, -0.011446421, -0.03998068, 0.02473249, -0.018494502, -0.03891692, -0.04161439, 0.006224265, 0.00659515, 0.0028827728, 0.017598424, -0.013676324, 0.08582158, -0.051371366, -0.034540415, 0.029207984, -0.017879574, 0.0212838, -0.007002676, 0.018660393, 0.0082592135, 0.010206143, -0.014655608, 0.0017028599, 0.023607234, 0.022670291, -0.024880916, -0.05980139, -0.013064007, -0.0047241263, -0.0069494504, -0.017508851, 0.041690312, 0.028447382, 0.047192648, -0.04551682, 0.010413554, 0.018844847, -0.073779866, -0.053903583, 0.012002181, 0.04185053, 0.02346674, 0.01686549, 0.01524836, 0.023009932, 0.016302396, 0.057204295, 0.06325833, 0.017190225, -0.005260002, -0.009917013, -0.007171745, 0.02270225, 0.012475718, 0.0012510397, -0.033272475, -0.007123034, 0.032397125, 0.020098843, 0.02682291, 0.03239374, -0.04808027, 0.016045729, 0.0088347215, 0.022193015, -0.012348219, -0.017610358, 0.02788483, 0.000647864, -0.05807687, 0.02282899, -0.00023219912, -0.011546815, -0.018366324, -0.034439582, 0.0028743967, 0.06086299, -0.058414534, 0.012022404, -0.003389411, 0.020005934, 0.044499356, -0.007342781, -0.0042170733, -0.019197596, 0.042406864, 0.011953324, -0.010371171, 0.009931854, 0.003867028, -0.03304412, 0.029620448, -0.015195703, -0.0031960837, -0.011676024, -0.0012146875, -0.0016241418, 0.032451, -0.004893408, 0.015026323, -0.0166832, 0.044264607, 0.0143130915, -0.023161896, -0.008552421, -0.020955307, 0.031214114, 0.04426546, -0.0020895868, -0.0034961225, -0.036526367, 0.0061508045, 0.016567668, -0.033041812, -0.014761785, -0.02400656, -0.013195851, -0.03852722, 0.03501185, -0.028963165, 0.04139057, 0.0017934452, -0.014662088, 0.008875023, 0.00036280358, 0.052361883, 0.005162156, 0.08557721, 0.027302913, 0.012702624, 0.02168572, 0.012984072, 0.04582375, 0.026256472, 0.022536984, -0.000105396415, 0.0044412147, -0.0076596, -0.037568226, 0.02453621, -0.0042333947, -0.027819388, 0.007706344, -0.029364504, -0.031178847, 0.055269923, 0.019846044, 0.011239365, 0.0057528107, 0.016673055, -0.023926467, -0.0011442676, 0.01032675, 0.030457897, 0.026347945, 0.04538516, -0.06906286, -0.0297516, -0.026028553, -0.015188236, 0.019549297, -0.0048879916, 0.019726217, -0.027565533, 0.026222326, 0.108141296, 0.019336848, 0.041312736, 0.019737262, -0.033395126, -0.010160533, 0.038118143, -0.006564843, 0.0046967855, -0.026866473, -0.019677704, 0.0013446186, -0.030759005, 0.006106828, -0.009817725, 0.032330863, -0.0011950701, 0.0021846362, 0.03879604, -0.02307966, 0.030063612, 0.03218902, 0.03708104, 0.010553542, -0.05079221, -0.041198988, -0.022233717, 0.00012450879, 0.009511415, 0.024058126, -0.021196311, -0.018655978, -0.018045658, -0.06916377, -0.05012508, 0.00037113496, -0.0017874367, -0.007018029, 0.035780214, -0.13856141, -3.7134143e-06, 0.05654959, 0.0068876673, -0.012681089, -0.03912753, 0.02500859, 0.015480991, -0.0023206847, 0.0064238827, 0.035799783, -0.0056820903, -0.0054272106, 0.022083357, -0.027142717, 0.0005086183, 0.032317985, 0.006437737, 0.01702638, 0.014662196, -0.12246845, -0.037886154, -0.0005247355, -0.0048387637, -0.0011515866, 0.01718837, 0.03726259, -0.028526727, -0.017147651, 0.039931584, 0.00529824, 0.008607941, 0.011141253, -0.01580501, -0.0025270563, -0.018049674, -0.04237379, 0.042454146, 0.009551953, -0.054952335, -0.045640312, -0.01214634, -0.016385518, -0.038194373, -0.049358845, 0.050022498, -0.029491792, -0.0050007137, 0.047927238, -0.023402022, -0.050620206, 0.04040937, -0.01239237, -0.003190524, 0.023916595, 0.036984693, 0.039744195, 0.012739455, 0.005939475, -7.192777e-05, -0.0069984966, 0.11972362, 0.037353143, -0.04005208, 0.024517221, 0.054381035, -0.008484771, 0.016162807, -0.004659547, -0.03553416, -0.010882421, -0.022104641, -0.014909636, -0.048985932, 0.01613277, -0.016814655, 0.055040393, -0.016592434, -0.0017940662, 0.05033909, -0.0027440698, -0.004461186, 0.044345032, 0.06558529, -0.015101574, -0.038292117, -0.0064621237, 0.019115346, 0.0032473723, -0.004529743, -0.015312099, 0.025221217, -0.03017089, -0.020687677, 0.011346057, -0.07534188, 0.025636367, -0.026211532, 0.008804626, 0.0080097485, 0.03775363, -0.005645067, 0.024436051, -0.0112096, -0.016051088, -0.010790343, 0.005016065, 0.03554006, 0.0132415, -0.0026435272, -0.008282701, 0.023678565, -0.012219453, 0.023910753, -0.02046894, -0.009169787, 0.016863108, -0.05797804, 0.016363839, 0.03561991, -0.0439222, 0.029419214, 0.01713523, -0.0065445434, 0.017187163, -0.025153615, -0.0152791105, 0.020416368, 0.01014522, -0.02570212, 0.01515772, -0.042187683, -0.051651616, -0.0110497745, 0.0006988785, 0.027906062, -0.025135247, -0.019958863, 0.0072056977, -0.001762687, -0.0069018896, 0.0326578, -0.00356039, -0.0027747045, -0.023796897, -0.049416155, 0.0013032063, -0.0030448146, 0.0110862395, -0.010813776, -0.033215657, 0.002916455, -0.013342393, 0.015075687, 0.026494574, -0.009733424, -0.03894424, -0.0057510086, 0.03687327, -0.0144469375, -0.0021453616, 0.008645912, -0.026940063, 0.0036754052, -0.06477448, -0.29063037, -0.01933286, -0.010527957, -0.033137895, 0.01285935, -0.0032259217, 0.013685703, 0.01679527, -0.024821877, 0.038478263, 0.05351706, -0.034084313, 0.029751489, 0.0153642995, 0.030347534, 0.0646113, -0.02828424, 0.00049802277, -0.035510898, -0.00023160074, -0.0006882317, -0.027734537, -0.0072092004, -0.030086646, 0.048548672, 0.012791254, 0.03426148, -0.028495697, 0.02706728, 0.0048347916, -0.020507155, -0.018536245, -0.03319521, 0.0049301884, -0.047551602, -0.03442239, 0.054749917, -0.054838557, -0.012520991, -0.010862946, -0.026002327, 0.012522065, 0.033731, -0.013021236, -0.03143261, -0.033879098, -0.036900952, 0.02278715, -0.017043836, 0.021862695, 0.0031440817, 0.002433396, 0.014894634, -0.0024315552, 0.029391745, -0.00046708717, 0.026554596, -0.036367994, 0.038473003, 0.039926905, 0.021525525, 0.009002625, -0.016294595, -0.01365557, 0.01143489, -0.037694145, -0.0075417305, -0.0052518314, 0.00822512, -0.04274473, -0.04567965, -0.051859718, -0.032511555, 0.0101779895, 0.029936325, -0.07190835, 0.024109388, -0.0240426, -0.02065477, 0.020856451, -0.02833522, -0.002704737, 0.024600467, -0.019571299, -0.038711533, 0.015787806, 0.0136168, -0.027496492, 0.07341237, -0.051901065, -0.017510714, 0.021474961, 0.012903783, -0.056925494, -0.030762915, -0.023685774, 0.03255125, 0.04342951, -0.0065389313, 0.013126694, 0.0028869314, -0.033325955, -0.03032747, 0.017287865, -0.034958843, 0.03216807, 0.028804742, 0.032912735, 0.01898443, 0.040800348, -0.0037733936, -0.04241996, 0.038459543, -0.023889467, 0.010080906, -0.008832479, -0.0056655845, 0.005621551, -0.05152208, 0.032881517, -0.016936494, 0.006531678, 0.0023164533, 0.054806788, -0.010927022, 0.019264827, -0.027870903, -0.06079151, -0.025641508, -0.019350767, 0.031535562, 0.0062696068, 0.04060039, -0.007617423, 0.0034103463, 0.045257878, -0.0097332755, 0.03803401, 0.012987754, -0.004924974, -0.0014632967, -0.00017078832, -0.023435114, -0.01933332, -0.051907487, 0.008128421, 0.0120758135, 0.011046405, -0.008579867, -0.047202192, -0.03899265, 0.00910118, -0.092714325, 0.031094356, 0.0214279, 0.024860796, 0.01306546, -0.054367427, -0.091741905, -0.02212913, -0.01156906, -0.02121266, -0.033031963, 0.016312458, 0.021179577, 0.026177384, -0.02814324, 0.0012928133, -0.002870444, -0.031581722, 0.009227198, 0.017046837, -0.004224002, -0.0077812276, -0.010753752, 0.012428954, -0.008351161, 0.012158705, 0.0012409285, -0.0037512132, -0.0031672157, -0.04329605, 0.0009572194, -0.008982675, 0.0036475502, -0.010666202, 0.0100225825, 0.027135795, -0.0020151276, -0.0046122815, -0.009283163, 0.054715563, 0.004427742, 0.027736977, -0.044544917, 0.047248792, -0.009572973, 0.022268998, -0.00027831414, 0.00970986, 0.058074564, 0.036579236, -0.017814016, -0.0022218146, 0.012671558, 0.040458832, 0.009774863, 0.021644605, 0.001170632, -0.0014061132, -0.025510212, -0.03067141, 0.02814004, -0.029513683, 0.0058680177, -0.014284996, 0.030289194, -0.022112973, 0.028638862, 0.026661718, 0.030694462, 0.0025160422, 0.022414217, 0.0010855589, 0.025342476, -0.010366975, 0.047006413, -0.019620951, 0.04054314, 0.007229668, -0.037471782, 0.008788453, -0.052586466, -0.0073180445, 0.02116822, -0.07251128, -0.027783496, 0.00490625, 0.003183987, 0.048918456, 0.0023334455, 0.009924881, 0.0018533278, 0.012325762, 0.002758983, -0.0169945, 0.024312895, -0.031639654, 0.032040715, 0.011225897, 0.027119216, 0.039035227, 0.034288578, -0.05382527, -0.062031504, -0.028058968, -0.0139742615, -0.022099838, 0.011029851, 0.0038358967, 0.012459392, 0.03481034, 0.06831879, 0.024273576, 0.016839888, 0.01743624, -0.014281858, -0.022169698, -0.025319647, -0.0039951317, -0.00016246103, -0.0128228925, -0.022856493, -0.045143794, -0.041386236, 0.039293326, -0.029062947, 0.014065205, 0.04673237, -0.0030043763, -0.059503365, 0.07192, 0.0038026872, 0.0003622655, 0.0029619925, 0.026020002, 0.024312075, 0.042042255, -0.0021108307, 0.011952748, 0.023882315, -0.040199347, -0.014237081, -0.0065655676, -0.02520841, -0.020174798, -0.036744818, 0.01706097, 0.04090108, 0.0456964, 0.012204051, 0.018766994, -0.02129145, 0.0038043149, -0.022617532, -0.04979587, 0.0014215462, -0.036483612, -0.02188905, 0.057411965, -0.009038007, -0.0012153265, -0.058405135, 0.027903805, 0.043041203, 0.039993234, 0.03186385, -0.030089514, -0.03960391, 0.00880396, 0.01454793, -0.020797612, -0.024061922, 0.021144042, -0.016131844, 0.0031001095, -0.005339489, -0.015803685, -0.017424947, 0.024150012, 0.008423033, -0.031135581, -0.01396608, -0.028523216, -0.010424034, 0.025182873, 0.08925242, -0.0027189099, 0.023483858, -0.0055695884, 0.0040806974, 0.008627794, -0.0010524022, -0.024295624, -0.031000089, -0.018993946, -0.036806814, -0.012321507, -0.007680292, 0.01108974, -0.00639822, -0.02403216, -0.017681869, -0.02598652, 0.02756768, -0.009895923, 0.01781681, -0.0031932585, 0.0019918766, -0.0043457113, 0.013899517, -0.030078052, -0.11982242, 0.01071181, -0.042476445, -0.05122188, 0.03210564, 0.012624896, 0.013373442, 0.00078845344, 0.05585364, 0.017400527, 0.037559833, 0.01145639, 0.019734995, 0.006960308, -0.0185261, -0.048462033, -0.0035882716, -0.028680492, -0.038521837, 0.039130736, 0.035838995, -0.018513452, -0.006016131, -0.07883109, -0.02724395, 0.07355654, -0.014927054, 0.002794439, 0.020369638, -0.014641036, -0.023711896, 0.0012719855, -0.06616387, 0.016613463, 0.02520933, -0.023920193, -0.011939053, 0.012387662, -0.0036157612, 0.048860725, -0.007942377, -0.0133432355, -0.009671241, -0.004562154, -0.033029556, 0.013705268, 0.028184902, 0.04561051, 0.018103667, 0.018954366, 0.03150451], 'embedding_scope': 'clip', 'start_offset_sec': 0.0, 'end_offset_sec': 5.76, 'video_path': '/home/ec2-user/ai-summit-lab-2025/sample_codes/videos/big_buck_bunny_480p_1mb.mp4'}]\n",
      "Inserted 1 embeddings into Milvus\n"
     ]
    }
   ],
   "source": [
    "def insert_embeddings(milvus_client, collection_name, task_result, video_path):\n",
    "    \"\"\"\n",
    "    Insert embeddings into the Milvus collection.\n",
    "\n",
    "    Args:\n",
    "        milvus_client: The Milvus client instance.\n",
    "        collection_name (str): The name of the Milvus collection to insert into.\n",
    "        task_result (EmbeddingsTaskResult): The task result containing video embeddings.\n",
    "        video_path (str): The path of the video associated with the embeddings.\n",
    "\n",
    "    Returns:\n",
    "        MutationResult: The result of the insert operation.\n",
    "\n",
    "    This function takes the video embeddings from the task result and inserts them\n",
    "    into the specified Milvus collection. Each embedding is stored with additional\n",
    "    metadata including its scope, start and end times, and the associated video URL.\n",
    "    \"\"\"\n",
    "    data = []\n",
    "\n",
    "    def prapare_data(video_path: str, segments: List[SegmentEmbedding]):\n",
    "        data=[]\n",
    "        idx=1\n",
    "        for segment in segments:\n",
    "           # print(\n",
    "           #     f\"  embedding_scope={segment.embedding_scope}, start_offset_sec={segment.start_offset_sec}, end_offset_sec={segment.end_offset_sec}\"\n",
    "           # )\n",
    "           # print(f\"  embeddings: {segment.embeddings_float}\")\n",
    "            data.append({\n",
    "                \"id\": idx,\n",
    "                \"vector\":segment.embeddings_float,\n",
    "                \"embedding_scope\": segment.embedding_scope,\n",
    "                \"start_offset_sec\": segment.start_offset_sec,\n",
    "                \"end_offset_sec\": segment.end_offset_sec,\n",
    "                \"video_path\": video_path\n",
    "            })\n",
    "            \n",
    "            idx+=1\n",
    "        print(data)\n",
    "        return data\n",
    "\n",
    "    \n",
    "    if task_result.video_embedding is not None and task_result.video_embedding.segments is not None:\n",
    "        data=prapare_data(video_path, task_result.video_embedding.segments)\n",
    "        insert_result = milvus_client.insert(collection_name=collection_name, data=data)\n",
    "        print(f\"Inserted {len(data)} embeddings into Milvus\")\n",
    "        return data, insert_result\n",
    "    else:\n",
    "        return None\n",
    "embedding_data, insert_result=insert_embeddings(client,COLLECTION_NAME, task_result, video_file)"
   ]
  },
  {
   "cell_type": "code",
   "execution_count": 11,
   "id": "7cafe21a-3242-4ff3-8094-bec03618df7c",
   "metadata": {},
   "outputs": [],
   "source": [
    "def perform_similarity_search(milvus_client, collection_name, query_vector, limit=5):\n",
    "    \"\"\"\n",
    "    Perform a similarity search on the Milvus collection.\n",
    "\n",
    "    Args:\n",
    "        milvus_client: The Milvus client instance.\n",
    "        collection_name (str): The name of the Milvus collection to search in.\n",
    "        query_vector (list): The query vector to search for similar embeddings.\n",
    "        limit (int, optional): The maximum number of results to return. Defaults to 5.\n",
    "\n",
    "    Returns:\n",
    "        list: A list of search results, where each result is a dictionary containing\n",
    "              the matched entity's metadata and similarity score.\n",
    "\n",
    "    This function searches the specified Milvus collection for embeddings similar to\n",
    "    the given query vector. It returns the top matching results, including metadata\n",
    "    such as the embedding scope, time range, and associated video URL for each match.\n",
    "    \"\"\"\n",
    "    search_results = milvus_client.search(\n",
    "        collection_name=collection_name,\n",
    "        data=[query_vector],\n",
    "        limit=limit,\n",
    "        output_fields=[\"embedding_scope\", \"start_offset_sec\", \"end_offset_sec\", \"video_path\"]\n",
    "    )\n",
    "\n",
    "    return search_results\n",
    "   "
   ]
  },
  {
   "cell_type": "code",
   "execution_count": 12,
   "id": "c2b7f1fd-8414-457c-b90f-5b0709d5e375",
   "metadata": {},
   "outputs": [
    {
     "name": "stdout",
     "output_type": "stream",
     "text": [
      "Search Results:\n",
      "Result 1:\n",
      "  Video URL: /home/ec2-user/ai-summit-lab-2025/sample_codes/videos/big_buck_bunny_480p_1mb.mp4\n",
      "  Time Range: 0.0 - 5.76 seconds\n",
      "  Similarity Score: 1.0\n",
      "\n"
     ]
    }
   ],
   "source": [
    " \n",
    "query_vector = embedding_data[0]['vector']\n",
    "\n",
    "search_results = perform_similarity_search(client, COLLECTION_NAME, query_vector)\n",
    "\n",
    "print(\"Search Results:\")\n",
    "for i, result in enumerate(search_results[0]):\n",
    "    print(f\"Result {i+1}:\")\n",
    "    print(f\"  Video URL: {result['entity']['video_path']}\")\n",
    "    print(f\"  Time Range: {result['entity']['start_offset_sec']} - {result['entity']['end_offset_sec']} seconds\")\n",
    "    print(f\"  Similarity Score: {result['distance']}\")\n",
    "    print()\n"
   ]
  },
  {
   "cell_type": "markdown",
   "id": "0ac27470-9144-4508-bf5f-e05715e30d00",
   "metadata": {},
   "source": [
    "---\n",
    "# References\n"
   ]
  },
  {
   "cell_type": "markdown",
   "id": "245827a6-fe00-448c-ae79-bb6360cbd954",
   "metadata": {},
   "source": [
    "- [video sample](https://sample-videos.com/0)\n",
    "- [twelveslabs](https://docs.twelvelabs.io/docs/create-video-embeddings)\n",
    "- [twelveslabs&milvus](https://milvus.io/docs/zh-hant/video_search_with_twelvelabs_and_milvus.md)"
   ]
  },
  {
   "cell_type": "code",
   "execution_count": null,
   "id": "458e759c-06ba-4a6d-a82c-2d2d74e7964f",
   "metadata": {},
   "outputs": [],
   "source": []
  }
 ],
 "metadata": {
  "kernelspec": {
   "display_name": "Python 3 (ipykernel)",
   "language": "python",
   "name": "python3"
  },
  "language_info": {
   "codemirror_mode": {
    "name": "ipython",
    "version": 3
   },
   "file_extension": ".py",
   "mimetype": "text/x-python",
   "name": "python",
   "nbconvert_exporter": "python",
   "pygments_lexer": "ipython3",
   "version": "3.12.9"
  }
 },
 "nbformat": 4,
 "nbformat_minor": 5
}
