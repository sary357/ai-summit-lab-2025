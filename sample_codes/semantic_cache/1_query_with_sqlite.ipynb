{
 "cells": [
  {
   "cell_type": "code",
   "execution_count": 1,
   "id": "a1174d95-8bf6-49cf-bc6e-75ef1e3db6ab",
   "metadata": {},
   "outputs": [
    {
     "name": "stderr",
     "output_type": "stream",
     "text": [
      "/home/ec2-user/miniconda3/lib/python3.12/site-packages/tqdm/auto.py:21: TqdmWarning: IProgress not found. Please update jupyter and ipywidgets. See https://ipywidgets.readthedocs.io/en/stable/user_install.html\n",
      "  from .autonotebook import tqdm as notebook_tqdm\n"
     ]
    }
   ],
   "source": [
    "import os\n",
    "import random\n",
    "import traceback\n",
    "from dotenv import load_dotenv\n",
    "from pymilvus import connections, utility, Collection, FieldSchema, DataType, CollectionSchema\n",
    "from sentence_transformers import SentenceTransformer\n",
    "from pymilvus import MilvusClient\n",
    "from openai import OpenAI\n",
    "\n",
    "\n",
    "load_dotenv()\n",
    "openai_client = OpenAI(api_key=os.getenv(\"OPENAI_API_KEY\"))\n",
    "\n",
    "MILVUS_HOST = os.getenv(\"MILVUS_HOST\")\n",
    "MILVUS_PORT = os.getenv(\"MILVUS_PORT\")\n",
    "\n",
    "DB_NAME = os.getenv(\"DATABASE_NAME\")\n",
    "COLLECTION_NAME = os.getenv(\"COLLECTION_NAME\")\n",
    "\n",
    "DIMENSION = 512  # SentenceTransformer all-mpnet-base-v2 的輸出維度\n",
    "\n",
    "\n",
    "# 注入 embedding\n",
    "def query_and_response_with_no_cache(host_name, port, db_name, collection_name, user_query):\n",
    "    print(f\"{host_name}/{port}/{db_name}/{collection_name}/{user_query}\")\n",
    "    embedder = SentenceTransformer('distiluse-base-multilingual-cased-v1')\n",
    "    search_params = {\"metric_type\": \"COSINE\", \"param\": {\"nprobe\": 16}}\n",
    "    xq = embedder.encode(user_query)\n",
    "\n",
    "    client = None\n",
    "    try:\n",
    "        client = MilvusClient(\n",
    "            uri=f\"http://{host_name}:{port}\",\n",
    "            db_name=db_name\n",
    "        )\n",
    "        res=client.search(\n",
    "                collection_name=collection_name,\n",
    "                anns_field=\"embedding\",\n",
    "                data=[xq],\n",
    "                limit=1,\n",
    "                search_params=search_params,\n",
    "                output_fields=[\"id\",\"text\"]\n",
    "            )\n",
    "       # print(res)\n",
    "        if res and res[0] and res[0][0] and res[0][0][\"entity\"]:\n",
    "            #data_id=(res[0][0][\"id\"])\n",
    "            #raw_response_material_data=client.get(collection_name=collection_name, ids=[data_id], output_fields=[\"text\"])\n",
    "    \n",
    "            prompt = f\"\"\"使用以下上下文回答問題：\n",
    "            {res[0][0][\"entity\"][\"text\"]}\n",
    "    \n",
    "            問題：{user_query}\n",
    "            \"\"\"\n",
    "            response = openai_client.chat.completions.create(model=\"gpt-4o-mini\", \n",
    "            messages=[{\"role\": \"user\", \"content\": prompt}], temperature=0)\n",
    "            return response.choices[0].message.content.strip()\n",
    "        else:\n",
    "            return \"找不到相關資訊\"\n",
    "    except Exception as e:\n",
    "        traceback.print_exc()\n",
    "        return \"發生錯誤\"\n",
    "    finally:\n",
    "        if client:\n",
    "            client.close()"
   ]
  },
  {
   "cell_type": "code",
   "execution_count": 2,
   "id": "f7f0e47a-4632-4378-8a73-3ba121d2645e",
   "metadata": {},
   "outputs": [
    {
     "name": "stdout",
     "output_type": "stream",
     "text": [
      "127.0.0.1/19530/law_database/law_text_embeddings/管理委員會之職務是什麼\n",
      "管理委員會的職務包括以下幾項：\n",
      "\n",
      "1. 執行區分所有權人會議的決議事項。\n",
      "2. 負責共有及共用部分的清潔、維護、修繕及一般改良。\n",
      "3. 確保公寓大廈及其周圍的安全及環境維護。\n",
      "4. 提出住戶共同事務的改進建議。\n",
      "5. 制止住戶的違規行為並提供相關資料。\n",
      "6. 協調住戶違反相關規定的情況。\n",
      "7. 管理收益、公共基金及其他經費的收支、保管及運用。\n",
      "8. 保管規約、會議紀錄、使用執照謄本、竣工圖說等相關文件。\n",
      "9. 委任、僱傭及監督管理服務人。\n",
      "10. 提出及公告會計報告、結算報告及其他管理事項。\n",
      "11. 點收及保管共用部分及其附屬設施設備。\n",
      "12. 申報公共安全檢查與消防安全設備檢修，並執行改善措施。\n",
      "13. 處理其他依本條例或規約所定的事項。\n",
      "CPU times: user 620 ms, sys: 95.5 ms, total: 716 ms\n",
      "Wall time: 7.32 s\n"
     ]
    }
   ],
   "source": [
    "%%time\n",
    "result=query_and_response_with_no_cache(MILVUS_HOST, MILVUS_PORT, DB_NAME, COLLECTION_NAME, user_query=\"管理委員會之職務是什麼\")\n",
    "print(result)"
   ]
  },
  {
   "cell_type": "code",
   "execution_count": 3,
   "id": "26f68212-f7c7-43ee-aa92-3f45bebc9f92",
   "metadata": {},
   "outputs": [],
   "source": [
    "from gptcache.adapter.api import init_similar_cache\n",
    "from gptcache import cache, Config, Cache\n",
    "from gptcache.adapter.api import put, get, init_similar_cache\n",
    "from gptcache.processor.post import nop\n",
    "from gptcache.processor.pre import get_prompt\n",
    "\n",
    "global_semantic_cache=None\n",
    "def init_global_semantic_cache():\n",
    "    global global_semantic_cache\n",
    "    if not global_semantic_cache:\n",
    "        print(\"semantic cache initialized..\")\n",
    "        global_semantic_cache = Cache()\n",
    "        init_similar_cache( ## FAISS + SQLite\n",
    "            cache_obj=global_semantic_cache, post_func=nop, config=Config(similarity_threshold=0.9), data_dir=\"./20250201_01/\"\n",
    "        )\n",
    "\n",
    "def query_and_response_with_cache(host_name, port, db_name, collection_name, user_query):\n",
    "    print(f\"{host_name}/{port}/{db_name}/{collection_name}/{user_query}\")\n",
    "    global global_semantic_cache\n",
    "    init_global_semantic_cache()\n",
    "    try:\n",
    "        resp=get(user_query, cache_obj=global_semantic_cache, top_k=1)\n",
    "        if resp and resp[0]:\n",
    "            return resp[0]\n",
    "    except Exception as e:\n",
    "        pass\n",
    "   \n",
    "    embedder = SentenceTransformer('distiluse-base-multilingual-cased-v1')\n",
    "    xq = embedder.encode(user_query)\n",
    "    search_params = {\"metric_type\": \"COSINE\", \"param\": {\"nprobe\": 16}}\n",
    "\n",
    "    client = None\n",
    "    try:\n",
    "        client = MilvusClient(\n",
    "            uri=f\"http://{host_name}:{port}\",\n",
    "            db_name=db_name\n",
    "        )\n",
    "        res=client.search(\n",
    "                collection_name=collection_name,\n",
    "                anns_field=\"embedding\",\n",
    "                data=[xq],\n",
    "                limit=1,\n",
    "                search_params=search_params,\n",
    "                output_fields=[\"id\",\"text\"]\n",
    "                )\n",
    "        \n",
    "        if res and res[0] and res[0][0] and res[0][0][\"entity\"]:\n",
    "            #data_id=(res[0][0][\"id\"])\n",
    "           # raw_response_material_data=client.get(collection_name=collection_name, ids=[data_id], output_fields=[\"text\"])\n",
    "    \n",
    "            prompt = f\"\"\"使用以下上下文回答問題：\n",
    "            {res[0][0][\"entity\"][\"text\"]}\n",
    "    \n",
    "            問題：{user_query}\n",
    "            \"\"\"\n",
    "            response = openai_client.chat.completions.create(model=\"gpt-4o-mini\", \n",
    "            messages=[{\"role\": \"user\", \"content\": prompt}], temperature=0)\n",
    "            put(user_query, response.choices[0].message.content.strip(), cache_obj=global_semantic_cache)\n",
    "            return response.choices[0].message.content.strip()\n",
    "        else:\n",
    "            return \"找不到相關資訊\"\n",
    "    except Exception as e:\n",
    "        traceback.print_exc()\n",
    "        return \"發生錯誤\"\n",
    "    finally:\n",
    "        if client:\n",
    "            client.close()"
   ]
  },
  {
   "cell_type": "code",
   "execution_count": 4,
   "id": "d934cc3a-28c8-4246-90d6-b41c91b62eed",
   "metadata": {},
   "outputs": [
    {
     "name": "stdout",
     "output_type": "stream",
     "text": [
      "127.0.0.1/19530/law_database/law_text_embeddings/管理委員會之職務是什麼\n",
      "semantic cache initialized..\n",
      "管理委員會的職務包括以下幾項：\n",
      "\n",
      "1. 執行區分所有權人會議的決議事項。\n",
      "2. 負責共有及共用部分的清潔、維護、修繕及一般改良。\n",
      "3. 確保公寓大廈及其周圍的安全及環境維護。\n",
      "4. 提出住戶共同事務的改進建議。\n",
      "5. 制止住戶的違規行為並提供相關資料。\n",
      "6. 協調住戶違反相關規定的情況。\n",
      "7. 管理收益、公共基金及其他經費的收支、保管及運用。\n",
      "8. 保管規約、會議紀錄、使用執照謄本、竣工圖說等相關文件。\n",
      "9. 委任、僱傭及監督管理服務人。\n",
      "10. 提出及公告會計報告、結算報告及其他管理事項。\n",
      "11. 點收及保管共用部分及其附屬設施設備。\n",
      "12. 申報公共安全檢查與消防安全設備檢修，並執行改善措施。\n",
      "13. 處理其他依本條例或規約所定的事項。\n",
      "CPU times: user 7.65 s, sys: 294 ms, total: 7.94 s\n",
      "Wall time: 12.3 s\n"
     ]
    }
   ],
   "source": [
    "%%time\n",
    "result=query_and_response_with_cache(MILVUS_HOST, MILVUS_PORT, DB_NAME, COLLECTION_NAME, user_query=\"管理委員會之職務是什麼\")\n",
    "print(result)"
   ]
  },
  {
   "cell_type": "code",
   "execution_count": 5,
   "id": "a6407f08-05cb-4d12-9f87-43a06241d6e5",
   "metadata": {},
   "outputs": [
    {
     "name": "stdout",
     "output_type": "stream",
     "text": [
      "127.0.0.1/19530/law_database/law_text_embeddings/管理委員會之職務是什麼\n",
      "管理委員會的職務包括以下幾項：\n",
      "\n",
      "1. 執行區分所有權人會議的決議事項。\n",
      "2. 負責共有及共用部分的清潔、維護、修繕及一般改良。\n",
      "3. 確保公寓大廈及其周圍的安全及環境維護。\n",
      "4. 提出住戶共同事務的改進建議。\n",
      "5. 制止住戶的違規行為並提供相關資料。\n",
      "6. 協調住戶違反相關規定的情況。\n",
      "7. 管理收益、公共基金及其他經費的收支、保管及運用。\n",
      "8. 保管規約、會議紀錄、使用執照謄本、竣工圖說等相關文件。\n",
      "9. 委任、僱傭及監督管理服務人。\n",
      "10. 提出及公告會計報告、結算報告及其他管理事項。\n",
      "11. 點收及保管共用部分及其附屬設施設備。\n",
      "12. 申報公共安全檢查與消防安全設備檢修，並執行改善措施。\n",
      "13. 處理其他依本條例或規約所定的事項。\n",
      "CPU times: user 3.13 s, sys: 2.29 ms, total: 3.14 s\n",
      "Wall time: 1.61 s\n"
     ]
    }
   ],
   "source": [
    "%%time\n",
    "result=query_and_response_with_cache(MILVUS_HOST, MILVUS_PORT, DB_NAME, COLLECTION_NAME, user_query=\"管理委員會之職務是什麼\")\n",
    "print(result)"
   ]
  },
  {
   "cell_type": "code",
   "execution_count": 6,
   "id": "0a66752a-f2cd-46fc-9b2d-c35fd0dce696",
   "metadata": {},
   "outputs": [
    {
     "name": "stdout",
     "output_type": "stream",
     "text": [
      "127.0.0.1/19530/law_database/law_text_embeddings/管理委員會職務包含什麼項目\n",
      "管理委員會的職務包括以下幾項：\n",
      "\n",
      "1. 執行區分所有權人會議的決議事項。\n",
      "2. 負責共有及共用部分的清潔、維護、修繕及一般改良。\n",
      "3. 確保公寓大廈及其周圍的安全及環境維護。\n",
      "4. 提出住戶共同事務的改進建議。\n",
      "5. 制止住戶的違規行為並提供相關資料。\n",
      "6. 協調住戶違反相關規定的情況。\n",
      "7. 管理收益、公共基金及其他經費的收支、保管及運用。\n",
      "8. 保管規約、會議紀錄、使用執照謄本、竣工圖說等相關文件。\n",
      "9. 委任、僱傭及監督管理服務人。\n",
      "10. 提出及公告會計報告、結算報告及其他管理事項。\n",
      "11. 點收及保管共用部分及其附屬設施設備。\n",
      "12. 申報公共安全檢查與消防安全設備檢修，並執行改善措施。\n",
      "13. 處理其他依本條例或規約所定的事項。\n",
      "CPU times: user 3.05 s, sys: 10.7 ms, total: 3.06 s\n",
      "Wall time: 1.59 s\n"
     ]
    }
   ],
   "source": [
    "%%time\n",
    "result=query_and_response_with_cache(MILVUS_HOST, MILVUS_PORT, DB_NAME, COLLECTION_NAME, user_query=\"管理委員會職務包含什麼項目\")\n",
    "print(result)"
   ]
  },
  {
   "cell_type": "code",
   "execution_count": 7,
   "id": "f579fbcd-f425-4ccf-b2ba-9543721a8fad",
   "metadata": {},
   "outputs": [
    {
     "name": "stdout",
     "output_type": "stream",
     "text": [
      "127.0.0.1/19530/law_database/law_text_embeddings/條例用辭定義\n",
      "管理委員會的職務包括以下幾項：\n",
      "\n",
      "1. 執行區分所有權人會議的決議事項。\n",
      "2. 負責共有及共用部分的清潔、維護、修繕及一般改良。\n",
      "3. 確保公寓大廈及其周圍的安全及環境維護。\n",
      "4. 提出住戶共同事務的改進建議。\n",
      "5. 制止住戶的違規行為並提供相關資料。\n",
      "6. 協調住戶違反相關規定的情況。\n",
      "7. 管理收益、公共基金及其他經費的收支、保管及運用。\n",
      "8. 保管規約、會議紀錄、使用執照謄本、竣工圖說等相關文件。\n",
      "9. 委任、僱傭及監督管理服務人。\n",
      "10. 提出及公告會計報告、結算報告及其他管理事項。\n",
      "11. 點收及保管共用部分及其附屬設施設備。\n",
      "12. 申報公共安全檢查與消防安全設備檢修，並執行改善措施。\n",
      "13. 處理其他依本條例或規約所定的事項。\n",
      "CPU times: user 3.08 s, sys: 0 ns, total: 3.08 s\n",
      "Wall time: 1.59 s\n"
     ]
    }
   ],
   "source": [
    "%%time\n",
    "result=query_and_response_with_cache(MILVUS_HOST, MILVUS_PORT, DB_NAME, COLLECTION_NAME, user_query=\"條例用辭定義\")\n",
    "print(result)"
   ]
  },
  {
   "cell_type": "markdown",
   "id": "397d54dd-4a8d-4577-a51f-834f8926fc70",
   "metadata": {},
   "source": [
    "-----"
   ]
  },
  {
   "cell_type": "markdown",
   "id": "d53f9178-0b4e-4cc3-8908-0c89e87ffea9",
   "metadata": {},
   "source": [
    "# References\n",
    "- https://www.restack.io/p/gptcache-knowledge-gptcache-milvus-cat-ai\n",
    "- https://community.aws/content/2juMSXyaSX2qelT4YSdHBrW2D6s/bridging-the-efficiency-gap-mastering-llm-caching-for-next-generation-ai-part-2\n",
    "- https://github.com/zilliztech/GPTCache\n",
    "- https://milvus.io/docs\n",
    "- https://www.sbert.net/docs/sentence_transformer/pretrained_models.html"
   ]
  },
  {
   "cell_type": "code",
   "execution_count": null,
   "id": "0e56212f-fa0d-4b17-be30-786d09f3dfc9",
   "metadata": {},
   "outputs": [],
   "source": []
  }
 ],
 "metadata": {
  "kernelspec": {
   "display_name": "Python 3 (ipykernel)",
   "language": "python",
   "name": "python3"
  },
  "language_info": {
   "codemirror_mode": {
    "name": "ipython",
    "version": 3
   },
   "file_extension": ".py",
   "mimetype": "text/x-python",
   "name": "python",
   "nbconvert_exporter": "python",
   "pygments_lexer": "ipython3",
   "version": "3.12.8"
  }
 },
 "nbformat": 4,
 "nbformat_minor": 5
}
